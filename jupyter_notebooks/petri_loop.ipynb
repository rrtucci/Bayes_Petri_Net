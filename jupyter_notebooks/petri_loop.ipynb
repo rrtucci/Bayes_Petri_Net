{
 "cells": [
  {
   "cell_type": "markdown",
   "id": "1e83ef9a-6427-4ebf-a917-edc244dd0ccd",
   "metadata": {},
   "source": [
    "# Petri Net with one loop"
   ]
  },
  {
   "cell_type": "code",
   "execution_count": null,
   "id": "65ee9b0e-9fee-4e46-aac7-21f1c3fd5010",
   "metadata": {},
   "outputs": [],
   "source": []
  }
 ],
 "metadata": {
  "kernelspec": {
   "display_name": "Python 3 (ipykernel)",
   "language": "python",
   "name": "python3"
  },
  "language_info": {
   "codemirror_mode": {
    "name": "ipython",
    "version": 3
   },
   "file_extension": ".py",
   "mimetype": "text/x-python",
   "name": "python",
   "nbconvert_exporter": "python",
   "pygments_lexer": "ipython3",
   "version": "3.10.9"
  }
 },
 "nbformat": 4,
 "nbformat_minor": 5
}
