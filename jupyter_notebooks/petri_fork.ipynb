{
 "cells": [
  {
   "cell_type": "markdown",
   "id": "1e83ef9a-6427-4ebf-a917-edc244dd0ccd",
   "metadata": {},
   "source": [
    "# Petri Net fork\n",
    "\n",
    "This notebook tests the class PetriNet for a simple fork shaped Petri graph\n",
    "with a single transition \"x1\". That transition is fired once."
   ]
  },
  {
   "cell_type": "code",
   "execution_count": 1,
   "id": "65ee9b0e-9fee-4e46-aac7-21f1c3fd5010",
   "metadata": {},
   "outputs": [
    {
     "name": "stdout",
     "output_type": "stream",
     "text": [
      "C:\\Users\\rrtuc\\Desktop\\backed-up\\python-projects\\Bayes_Petri_Net\n"
     ]
    }
   ],
   "source": [
    "# this makes sure it starts looking for things from the Bayes_Petri_Net folder down.\n",
    "import os\n",
    "import sys\n",
    "os.chdir('../')\n",
    "sys.path.insert(0,os.getcwd())\n",
    "print(os.getcwd())"
   ]
  },
  {
   "cell_type": "code",
   "execution_count": 2,
   "id": "8c31f615-0c28-45f9-97b4-1373d7d3136a",
   "metadata": {
    "tags": []
   },
   "outputs": [],
   "source": [
    "from PetriNet import *"
   ]
  },
  {
   "cell_type": "code",
   "execution_count": 3,
   "id": "6c5766be-8795-4ce6-819a-b2ec4fc2a622",
   "metadata": {
    "tags": []
   },
   "outputs": [
    {
     "name": "stdout",
     "output_type": "stream",
     "text": [
      "\n",
      "places:\n",
      "(p1, 5)\n",
      "(p2, 1)\n",
      "(p3, 1)\n",
      "\n",
      "arcs:\n",
      "(('p1', 'x1'), 1)\n",
      "(('x1', 'p2'), 1)\n",
      "(('x1', 'p3'), 1)\n",
      "\n",
      "transitions:\n",
      "\n",
      "name=x1\n",
      "in_arcs:\n",
      "(('p1', 'x1'), 1)\n",
      "out_arcs:\n",
      "(('x1', 'p2'), 1)\n",
      "(('x1', 'p3'), 1)\n"
     ]
    },
    {
     "data": {
      "image/png": "[encoded data removed]",
      "text/plain": [
       "<IPython.core.display.Image object>"
      ]
     },
     "metadata": {},
     "output_type": "display_data"
    }
   ],
   "source": [
    "fname = \"dot_atlas/PN_fork.txt\"\n",
    "places, arcs, tras = PetriNet.read_dot_file(fname)\n",
    "PetriNet.describe_PAT(places, arcs, tras)\n",
    "pnet = PetriNet(places, arcs, tras)\n",
    "pnet.draw(jupyter=True)"
   ]
  },
  {
   "cell_type": "code",
   "execution_count": 4,
   "id": "e9b72f9e-6480-4ac7-ad33-90a3089f747f",
   "metadata": {},
   "outputs": [
    {
     "name": "stdout",
     "output_type": "stream",
     "text": [
      "current markings: [('p1', 5), ('p2', 1), ('p3', 1)]\n"
     ]
    },
    {
     "data": {
      "image/png": "[encoded data removed]",
      "text/plain": [
       "<IPython.core.display.Image object>"
      ]
     },
     "metadata": {},
     "output_type": "display_data"
    },
    {
     "name": "stdout",
     "output_type": "stream",
     "text": [
      "Fired transition x1.\n",
      "current markings: [('p1', 4), ('p2', 2), ('p3', 2)]\n"
     ]
    },
    {
     "data": {
      "image/png": "[encoded data removed]",
      "text/plain": [
       "<IPython.core.display.Image object>"
      ]
     },
     "metadata": {},
     "output_type": "display_data"
    }
   ],
   "source": [
    "pnet.describe_current_markings()\n",
    "pnet.draw(jupyter=True)\n",
    "tra = pnet.get_tra_from_name(\"x1\")\n",
    "pnet.fire_transition(tra)\n",
    "pnet.describe_current_markings()\n",
    "pnet.draw(jupyter=True)"
   ]
  },
  {
   "cell_type": "code",
   "execution_count": 6,
   "id": "8717b637-f6a9-4448-84c5-ed616b005e9c",
   "metadata": {
    "tags": []
   },
   "outputs": [
    {
     "data": {
      "application/vnd.jupyter.widget-view+json": {
       "model_id": "3ade1fbd9003449eafa71d2f00a504d5",
       "version_major": 2,
       "version_minor": 0
      },
      "text/plain": [
       "Button(description='Step', style=ButtonStyle())"
      ]
     },
     "metadata": {},
     "output_type": "display_data"
    },
    {
     "data": {
      "application/vnd.jupyter.widget-view+json": {
       "model_id": "c94d8d57442b441c9dbc77418a0607cd",
       "version_major": 2,
       "version_minor": 0
      },
      "text/plain": [
       "Output()"
      ]
     },
     "metadata": {},
     "output_type": "display_data"
    }
   ],
   "source": [
    "from widget_utils import *\n",
    "step_num = 0\n",
    "refresh = True\n",
    "firing_tras0=pnet.get_firing_tras_from_names([\"x1\", \"x1\"])\n",
    "create_step_button(refresh, \n",
    "                   pnet.inner_step, \n",
    "                  firing_tras=firing_tras0,\n",
    "                  jupyter=True,\n",
    "                  red_arc_list=None)"
   ]
  },
  {
   "cell_type": "code",
   "execution_count": null,
   "id": "3560911c-f397-437e-ae3b-19002d472b23",
   "metadata": {},
   "outputs": [],
   "source": []
  },
  {
   "cell_type": "code",
   "execution_count": null,
   "id": "a5cf8de8-a039-440d-a61b-55005953594f",
   "metadata": {},
   "outputs": [],
   "source": []
  }
 ],
 "metadata": {
  "kernelspec": {
   "display_name": "Python 3 (ipykernel)",
   "language": "python",
   "name": "python3"
  },
  "language_info": {
   "codemirror_mode": {
    "name": "ipython",
    "version": 3
   },
   "file_extension": ".py",
   "mimetype": "text/x-python",
   "name": "python",
   "nbconvert_exporter": "python",
   "pygments_lexer": "ipython3",
   "version": "3.10.9"
  }
 },
 "nbformat": 4,
 "nbformat_minor": 5
}
