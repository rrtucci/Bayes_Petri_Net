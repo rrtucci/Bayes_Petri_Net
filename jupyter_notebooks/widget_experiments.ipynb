{
 "cells": [
  {
   "cell_type": "markdown",
   "id": "e3d057a2-8a62-4374-8199-77265a5c87fa",
   "metadata": {},
   "source": [
    "# Widget experiments"
   ]
  },
  {
   "cell_type": "code",
   "execution_count": 1,
   "id": "97e6d3fb-c5d2-4b14-aca5-4a18efb25647",
   "metadata": {},
   "outputs": [
    {
     "name": "stdout",
     "output_type": "stream",
     "text": [
      "C:\\Users\\rrtuc\\Desktop\\backed-up\\python-projects\\Bayes_Petri_Net\n"
     ]
    }
   ],
   "source": [
    "# this makes sure it starts looking for things from the Bayes_Petri_Net folder down.\n",
    "import os\n",
    "import sys\n",
    "os.chdir('../')\n",
    "sys.path.insert(0,os.getcwd())\n",
    "print(os.getcwd())"
   ]
  },
  {
   "cell_type": "code",
   "execution_count": null,
   "id": "e0e13b99-2e83-4580-b7f2-fd4118cb99e0",
   "metadata": {},
   "outputs": [],
   "source": [
    "from widget_utils import *"
   ]
  },
  {
   "cell_type": "code",
   "execution_count": 2,
   "id": "be2a4baf-dae5-446e-a6f3-08937e27715d",
   "metadata": {
    "tags": []
   },
   "outputs": [],
   "source": [
    "def inner_step(**kwargs):\n",
    "    global step_num\n",
    "    step_num += 1\n",
    "    print(f\"Step {step_num} performed\")"
   ]
  },
  {
   "cell_type": "code",
   "execution_count": 3,
   "id": "f427ec27-d736-44ef-bb41-88447ee7b22b",
   "metadata": {
    "tags": []
   },
   "outputs": [
    {
     "data": {
      "application/vnd.jupyter.widget-view+json": {
       "model_id": "9957bf5599554a64a3357da5bd698911",
       "version_major": 2,
       "version_minor": 0
      },
      "text/plain": [
       "Button(description='Step', style=ButtonStyle())"
      ]
     },
     "metadata": {},
     "output_type": "display_data"
    },
    {
     "data": {
      "application/vnd.jupyter.widget-view+json": {
       "model_id": "4192e515e98f42a3a3cc35f2785898be",
       "version_major": 2,
       "version_minor": 0
      },
      "text/plain": [
       "Output()"
      ]
     },
     "metadata": {},
     "output_type": "display_data"
    }
   ],
   "source": [
    "step_num = 0\n",
    "refresh = True\n",
    "kwargs = {}\n",
    "create_step_button(refresh, inner_step, **kwargs)"
   ]
  },
  {
   "cell_type": "code",
   "execution_count": null,
   "id": "d28e1a2b-76f9-4491-a02e-01be1e6f89cb",
   "metadata": {},
   "outputs": [],
   "source": []
  }
 ],
 "metadata": {
  "kernelspec": {
   "display_name": "Python 3 (ipykernel)",
   "language": "python",
   "name": "python3"
  },
  "language_info": {
   "codemirror_mode": {
    "name": "ipython",
    "version": 3
   },
   "file_extension": ".py",
   "mimetype": "text/x-python",
   "name": "python",
   "nbconvert_exporter": "python",
   "pygments_lexer": "ipython3",
   "version": "3.10.9"
  }
 },
 "nbformat": 4,
 "nbformat_minor": 5
}
